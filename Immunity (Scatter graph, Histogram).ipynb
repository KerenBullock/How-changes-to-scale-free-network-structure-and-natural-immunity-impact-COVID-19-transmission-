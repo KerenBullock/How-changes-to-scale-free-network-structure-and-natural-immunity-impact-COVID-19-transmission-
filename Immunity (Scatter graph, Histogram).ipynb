{
 "cells": [
  {
   "cell_type": "code",
   "execution_count": 1,
   "metadata": {},
   "outputs": [],
   "source": [
    "# Importing the required packages\n",
    "import igraph as ig\n",
    "import random as rd\n",
    "import numpy as np\n",
    "import matplotlib.pyplot as plt\n",
    "import pickle\n",
    "from scipy import stats\n",
    "\n",
    "# Specifying the figure parameters\n",
    "font = {'family': 'serif',\n",
    "        'color':  'black',\n",
    "        'weight': 'normal',\n",
    "        'size': 18,\n",
    "        }\n",
    "params = {'legend.fontsize': 10,\n",
    "          'legend.handlelength': 2.}\n",
    "plt.rcParams.update(params)\n"
   ]
  },
  {
   "cell_type": "code",
   "execution_count": 2,
   "metadata": {
    "scrolled": true
   },
   "outputs": [],
   "source": [
    "def results(iters= 1,pop=10000,edge_per_node= 2,days=730,m=8, power = 1,immunity_length = 240,\n",
    "            probs_inf=[0.01,0.01,0.1,0.2,0.3,0.3,0.3,0.25,0.2,0.15,0.1,0.05,0.01,0.01]):\n",
    "    time_1perc_all = [] #time when 1% of the population is first infected\n",
    "    wave2_time_1perc_all =[]\n",
    "    wave3_time_1perc_all =[]\n",
    "    tot_time_1perc_all = [] #total time for which 1% of the population is infected\n",
    "    wave2_tot_time_1perc_all = []\n",
    "    wave3_tot_time_1perc_all =[]\n",
    "    peak_time_all = []\n",
    "    wave2_peak_time_all = []\n",
    "    wave3_peak_time_all = []\n",
    "    peak_perc_all = []\n",
    "    wave2_peak_perc_all =[]\n",
    "    wave3_peak_perc_all =[]\n",
    "    \n",
    "    S_final = []\n",
    "    R_final = []\n",
    "    I_final = []\n",
    "    T_final = []\n",
    "    \n",
    "    for i in range(0,iters):\n",
    "        time_1perc = False\n",
    "        wave2_time_1perc =False\n",
    "        wave3_time_1perc =False\n",
    "        tt = False\n",
    "        wave2_tt =False\n",
    "        wave3_tt =False\n",
    "        tt_peak = False\n",
    "        wave2_tt_peak =False\n",
    "        wave3_tt_peak =False\n",
    "        tot_time_1perc = 0.0\n",
    "        wave2_tot_time_1perc =0.0\n",
    "        wave3_tot_time_1perc =0.0\n",
    "        I_stores = 0.0\n",
    "        g = ig.Graph.Barabasi(pop, edge_per_node,power)\n",
    "        g.vs[\"state\"] = \"S\"\n",
    "        g.vs[\"duration\"] = 0\n",
    "        g.vs[\"immune\"] = 0\n",
    "        i = rd.randint(0, pop-1)\n",
    "        g.vs[i][\"state\"] = \"I\"\n",
    "        for time in range(days): #no. of days\n",
    "            \n",
    "            if len(g.vs.select(state_eq = \"I\")) > pop*0.075 and time_1perc is False:\n",
    "                #stores the time that 1% of the population is infected\n",
    "                time_1perc = True\n",
    "                tot_time_1perc = float(time)\n",
    "                time_1perc_all.append(time)\n",
    "                \n",
    "            if len(g.vs.select(state_eq = \"I\")) > pop*0.075 and time>150 and time_1perc is True and wave2_time_1perc is False:\n",
    "                #stores the time that 1% of the population is infected\n",
    "                wave2_time_1perc = True\n",
    "                wave2_tot_time_1perc = float(time)\n",
    "                wave2_time_1perc_all.append(time)            \n",
    " \n",
    "            if len(g.vs.select(state_eq = \"I\")) > pop*0.075 and time>250 and time_1perc is True and wave2_time_1perc is True and wave3_time_1perc is False:\n",
    "                #stores the time that 1% of the population is infected\n",
    "                wave3_time_1perc = True\n",
    "                wave3_tot_time_1perc = float(time)\n",
    "                wave3_time_1perc_all.append(time)   \n",
    "                \n",
    "            if len(g.vs.select(state_eq = \"I\")) < pop*0.075 and tot_time_1perc > 0.0 and tt is False:\n",
    "                #stores the total time for which 1% of the population is infected\n",
    "                tot_time = time - tot_time_1perc\n",
    "                tot_time_1perc_all.append(tot_time)\n",
    "                tt = True     \n",
    "                \n",
    "            if len(g.vs.select(state_eq = \"I\")) < pop*0.075 and wave2_tot_time_1perc > 0.0 and wave2_tt is False:\n",
    "                wave2_tot_time = time - wave2_tot_time_1perc\n",
    "                wave2_tot_time_1perc_all.append(wave2_tot_time)\n",
    "                wave2_tt = True\n",
    "                \n",
    "            if len(g.vs.select(state_eq = \"I\")) < pop*0.075 and wave3_tot_time_1perc > 0.0 and wave3_tt is False:\n",
    "                wave3_tot_time = time - wave3_tot_time_1perc\n",
    "                wave3_tot_time_1perc_all.append(wave3_tot_time)\n",
    "                wave3_tt = True\n",
    "\n",
    "            for n in g.vs.select(state_eq = \"I\"): #iterates through each infected node in the network\n",
    "                g.vs[n.index][\"duration\"] += 1 #from day 0 to infect_len this node continues to infect\n",
    "                day_inf = g.vs[n.index][\"duration\"]\n",
    "                for nb in g.neighbors(n): #iterates through neighbours of that node\n",
    "                    if g.vs[nb][\"state\"] == \"S\": #if node is infected...\n",
    "                        r = rd.random() #random state\n",
    "                        if r < probs_inf[day_inf]:\n",
    "                            g.vs[nb][\"state\"] = \"I\" #change state to infected \n",
    "                    if g.vs[nb][\"state\"] == \"T\":\n",
    "                        r0 = rd.random()\n",
    "                        if r0 < 0.17:\n",
    "                            r1 = rd.random()\n",
    "                            if r1 < probs_inf[day_inf]:\n",
    "                                g.vs[nb][\"state\"] = \"I\" #change state to infected \n",
    "                        \n",
    "                if g.vs[n.index][\"duration\"] >= rd.randrange(2,14): #after infect_len that node changes to recovered\n",
    "                    g.vs[n.index][\"state\"] = \"T\"\n",
    "                    g.vs[n.index][\"immune\"] = g.vs[n.index][\"duration\"]#number of days of immunity starts\n",
    "                    g.vs[n.index][\"duration\"] = 0\n",
    "                    g.vs[n.index][\"immune\"] += 1\n",
    "                     \n",
    "            \n",
    "            for n in g.vs.select(state_eq = \"T\"):\n",
    "                g.vs[n.index][\"immune\"] += 1\n",
    "                if g.vs[n.index][\"immune\"] == immunity_length:\n",
    "                    g.vs[n.index][\"state\"] = \"S\" \n",
    "                    g.vs[n.index][\"duration\"] = 0\n",
    "            \n",
    "            \n",
    "            S_final.append(len(g.vs.select(state_eq = \"S\")))\n",
    "            I_final.append(len(g.vs.select(state_eq = \"I\")))\n",
    "            R_final.append(len(g.vs.select(state_eq = \"R\")))\n",
    "            T_final.append(len(g.vs.select(state_eq = \"T\")))\n",
    "\n",
    "            if time_1perc is True and I_stores > len(g.vs.select(state_eq = \"I\")) and tt_peak is False:\n",
    "                # if pop greater than 7.5% and previous no. of infected nodes is higher than current assume peak\n",
    "                tt_peak = True\n",
    "                peak_time_all.append(time)\n",
    "                peak_perc_all.append(I_stores)\n",
    "\n",
    "            if wave2_time_1perc is True and I_stores > len(g.vs.select(state_eq = \"I\")) and wave2_tt_peak is False:\n",
    "                # if pop greater than 7.5% and previous no. of infected nodes is higher than current assume peak\n",
    "                wave2_tt_peak = True\n",
    "                wave2_peak_time_all.append(time)\n",
    "                wave2_peak_perc_all.append(I_stores)\n",
    "\n",
    "            if wave3_time_1perc is True and I_stores > len(g.vs.select(state_eq = \"I\")) and wave3_tt_peak is False:\n",
    "                # if pop greater than 7.5% and previous no. of infected nodes is higher than current assume peak\n",
    "                wave3_tt_peak = True\n",
    "                wave3_peak_time_all.append(time)\n",
    "                wave3_peak_perc_all.append(I_stores)\n",
    "                \n",
    "            I_stores = len(g.vs.select(state_eq = \"I\"))\n",
    "            \n",
    "\n",
    "            \n",
    "            if days == 300:\n",
    "                f = rd.randint(0, pop-1)\n",
    "                if g.vs[f][\"state\"] == \"S\":\n",
    "                    g.vs[f][\"state\"] = \"I\"\n",
    "\n",
    "            if days == 600:\n",
    "                f = rd.randint(0, pop-1)\n",
    "                if g.vs[f][\"state\"] == \"S\":\n",
    "                    g.vs[f][\"state\"] = \"I\"\n",
    "\n",
    "            \n",
    "    return(peak_time_all, peak_perc_all,tot_time_1perc_all, time_1perc_all,\n",
    "           wave2_peak_time_all,wave2_peak_perc_all,wave2_tot_time_1perc_all,wave2_time_1perc_all,\n",
    "           wave3_peak_time_all, wave3_peak_perc_all,wave3_tot_time_1perc_all,wave3_time_1perc_all,\n",
    "           S_final, I_final, T_final) \n",
    "  \n",
    "         \n"
   ]
  },
  {
   "cell_type": "code",
   "execution_count": 43,
   "metadata": {},
   "outputs": [
    {
     "name": "stdout",
     "output_type": "stream",
     "text": [
      "[25, 36, 23]\n",
      "[4237, 4229, 4197]\n",
      "[]\n",
      "[16, 26, 14]\n",
      "[151, 151, 152]\n",
      "[3122, 3221, 3200]\n",
      "[]\n",
      "[151, 151, 151]\n",
      "[454, 452, 452]\n",
      "[3227, 3172, 3148]\n",
      "[]\n",
      "[451, 451, 451]\n"
     ]
    }
   ],
   "source": [
    "print(No_immunity[0])#wave1 peak\n",
    "print(No_immunity[1])#number infected at wave1peak\n",
    "--print(No_immunity[2])#length of wave1\n",
    "print(No_immunity[3]) #day wave 1 started\n",
    "print(No_immunity[4])#wave2peak\n",
    "print(No_immunity[5]) #number infected at wave2peak\n",
    "--print(No_immunity[6])#length of wave2\n",
    "print(No_immunity[7])#day wave2 started\n",
    "print(No_immunity[8])#wave3 peak\n",
    "print(No_immunity[9])# number infected at wave3peak\n",
    "--print(No_immunity[10])#length of wave3\n",
    "print(No_immunity[11])#day wave3started"
   ]
  },
  {
   "cell_type": "code",
   "execution_count": 3,
   "metadata": {},
   "outputs": [],
   "source": [
    "Five_months=results(iters=1, immunity_length=150)"
   ]
  },
  {
   "cell_type": "code",
   "execution_count": 4,
   "metadata": {},
   "outputs": [],
   "source": [
    "Six_months=results(iters=1, immunity_length=180)"
   ]
  },
  {
   "cell_type": "code",
   "execution_count": 5,
   "metadata": {},
   "outputs": [],
   "source": [
    "Seven_months=results(iters=1, immunity_length=210)"
   ]
  },
  {
   "cell_type": "code",
   "execution_count": 6,
   "metadata": {},
   "outputs": [],
   "source": [
    "Eight_months=results(iters=1, immunity_length=240)"
   ]
  },
  {
   "cell_type": "code",
   "execution_count": 7,
   "metadata": {},
   "outputs": [],
   "source": [
    "Nine_months=results(iters=1, immunity_length=270)"
   ]
  },
  {
   "cell_type": "code",
   "execution_count": 8,
   "metadata": {},
   "outputs": [],
   "source": [
    "No_immunity=results(iters=1, immunity_length=15)"
   ]
  },
  {
   "cell_type": "code",
   "execution_count": 9,
   "metadata": {},
   "outputs": [
    {
     "data": {
      "image/png": "[encoded data removed]",
      "text/plain": [
       "<Figure size 432x288 with 1 Axes>"
      ]
     },
     "metadata": {
      "needs_background": "light"
     },
     "output_type": "display_data"
    }
   ],
   "source": [
    "fig,ax1 = plt.subplots()\n",
    "\n",
    "#ax1.scatter(No_immunity[0],No_immunity[1], s=1, color='black') #wave1\n",
    "#ax1.scatter(No_immunity[4],No_immunity[5],s=1,color='black') #wave2\n",
    "#ax1.scatter(No_immunity[8],No_immunity[9],s=1,color='black') #wave3\n",
    "\n",
    "#ax1.scatter(Five_months[0],Five_months[1], label='5 months', s=1, color='red') #wave1\n",
    "ax1.scatter(Five_months[4],Five_months[5],s=1,color='red') #wave2\n",
    "ax1.scatter(Five_months[8],Five_months[9],label='5 months',s=1,color='salmon') #wave3\n",
    "\n",
    "#ax1.scatter(Six_months[0],Six_months[1],label='6 months',s=1,color='green') #wave1\n",
    "ax1.scatter(Six_months[4],Six_months[5],s=1,color='green') #wave2\n",
    "ax1.scatter(Six_months[8],Six_months[9],label='6 months',s=1,color='springgreen') #wave3\n",
    "\n",
    "#ax1.scatter(Seven_months[0],Seven_months[1],label='7 months',s=1,color='purple') #wave1\n",
    "ax1.scatter(Seven_months[4],Seven_months[5],s=1,color='purple') #wave2\n",
    "ax1.scatter(Seven_months[8],Seven_months[9],label='7 months',s=1,color='violet') #wave3\n",
    "\n",
    "#ax1.scatter(Eight_months[0],Eight_months[1],label='8 months',s=1,color='blue') #wave1\n",
    "ax1.scatter(Eight_months[4],Eight_months[5],s=1,color='blue') #wave2\n",
    "ax1.scatter(Eight_months[8],Eight_months[9],label='8 months',s=1,color='lightskyblue') #wave3\n",
    "\n",
    "#ax1.scatter(Nine_months[0],Nine_months[1],label='9 months',s=1,color='yellow') #wave1\n",
    "ax1.scatter(Nine_months[4],Nine_months[5],s=1,color='yellow') #wave2\n",
    "ax1.scatter(Nine_months[8],Nine_months[9],label='9 months',s=1,color='yellow') #wave3\n",
    "\n",
    "ax1.set_ylabel('Number of Population Infected')\n",
    "ax1.set_xlabel('Day')\n",
    "\n",
    "ax1.legend()\n",
    "plt.show()"
   ]
  },
  {
   "cell_type": "code",
   "execution_count": 85,
   "metadata": {},
   "outputs": [
    {
     "data": {
      "text/plain": [
       "<function matplotlib.pyplot.show(close=None, block=None)>"
      ]
     },
     "execution_count": 85,
     "metadata": {},
     "output_type": "execute_result"
    },
    {
     "data": {
      "image/png": "[encoded data removed]",
      "text/plain": [
       "<Figure size 432x288 with 2 Axes>"
      ]
     },
     "metadata": {
      "needs_background": "light"
     },
     "output_type": "display_data"
    }
   ],
   "source": [
    "fig, (ax1,ax2)  = plt.subplots(1,2) #1=length of wave 2 2=length of wave 3\n",
    "#plt.boxplot(No_immunity)\n",
    "\n",
    "Label = ['5 months', '6 Months', '7 Months', '8 Months', '9 Months']\n",
    "\n",
    "#ax1.hist(x= np.array(No_immunity[6]),histtype='step', color='black')\n",
    "ax1.hist(x= np.array(Five_months[6]),label='5 months', color='red')\n",
    "ax1.hist(x= np.array(Six_months[6]), label='6 months',color='green')\n",
    "ax1.hist(x= np.array(Seven_months[6]),label='7 months', color='purple')\n",
    "ax1.hist(x= np.array(Eight_months[6]), label='8 months',color='blue')\n",
    "ax1.hist(x= np.array(Nine_months[6]), label='9 months',color='yellow')\n",
    "\n",
    "#ax1.hist(x= np.array(No_immunity[10]),histtype='step', color='black')\n",
    "ax2.hist(x= np.array(Five_months[10]),label='5 months', color='red')\n",
    "ax2.hist(x= np.array(Six_months[10]), label='6 months',color='green')\n",
    "ax2.hist(x= np.array(Seven_months[10]),label='7 months', color='purple')\n",
    "ax2.hist(x= np.array(Eight_months[10]), label='8 months',color='blue')\n",
    "ax2.hist(x= np.array(Nine_months[10]), label='9 months',color='yellow')\n",
    "\n",
    "ax1.set_ylabel('Frequency')\n",
    "ax1.set_xlabel('Length of Wave 2 (days)')\n",
    "ax2.set_xlabel('Length of Wave 3 (days)')\n",
    "plt.tight_layout()\n",
    "ax2.legend()\n",
    "plt.show"
   ]
  },
  {
   "cell_type": "code",
   "execution_count": null,
   "metadata": {},
   "outputs": [],
   "source": []
  }
 ],
 "metadata": {
  "kernelspec": {
   "display_name": "Python 3",
   "language": "python",
   "name": "python3"
  },
  "language_info": {
   "codemirror_mode": {
    "name": "ipython",
    "version": 3
   },
   "file_extension": ".py",
   "mimetype": "text/x-python",
   "name": "python",
   "nbconvert_exporter": "python",
   "pygments_lexer": "ipython3",
   "version": "3.8.5"
  }
 },
 "nbformat": 4,
 "nbformat_minor": 4
}
