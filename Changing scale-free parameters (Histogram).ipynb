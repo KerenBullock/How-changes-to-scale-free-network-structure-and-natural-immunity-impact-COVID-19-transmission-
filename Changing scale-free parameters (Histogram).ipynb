{
 "cells": [
  {
   "cell_type": "code",
   "execution_count": 1,
   "metadata": {},
   "outputs": [],
   "source": [
    "# Importing the required packages\n",
    "import igraph as ig\n",
    "import random as rd\n",
    "import numpy as np\n",
    "import matplotlib.pyplot as plt\n",
    "import pickle\n",
    "from scipy import stats\n",
    "\n",
    "# Specifying the figure parameters\n",
    "font = {'family': 'serif',\n",
    "        'color':  'black',\n",
    "        'weight': 'normal',\n",
    "        'size': 18,\n",
    "        }\n",
    "params = {'legend.fontsize': 16,\n",
    "          'legend.handlelength': 2.}\n",
    "plt.rcParams.update(params)"
   ]
  },
  {
   "cell_type": "code",
   "execution_count": 2,
   "metadata": {
    "scrolled": true
   },
   "outputs": [],
   "source": [
    "def results(iters= 3,pop=10000,edge_per_node= 2,days=170,m=8, power = 1,\n",
    "            probs_inf=[0.01,0.01,0.1,0.2,0.3,0.3,0.3,0.25,0.2,0.15,0.1,0.05,0.01,0.01]):\n",
    "    \"\"\"stores the results of the SIR model for stats/plotting\"\"\"\n",
    "    time_1perc_all = [] #time when 1% of the population is first infected\n",
    "    tot_time_1perc_all = [] #total time for which 1% of the population is infected\n",
    "    time_1hub_all = [] #time when the first hub is infected\n",
    "    cl_coeffs_all = [] #clustering coefficient of network at each iteration\n",
    "    S_final = []\n",
    "    R_final = []\n",
    "    I_final = []\n",
    "    no_rm_all = []\n",
    "    peak_time_all = []\n",
    "    peak_perc_all = []\n",
    "    for i in range(0,iters):\n",
    "        time_1perc = False\n",
    "        time_1hub = False\n",
    "        tt = False\n",
    "        tt_peak = False\n",
    "        tot_time_1perc = 0.0\n",
    "        I_stores = 0.0\n",
    "        \n",
    "        g = ig.Graph.Barabasi(pop, edge_per_node,power)\n",
    "        g.vs[\"state\"] = \"S\"\n",
    "        g.vs[\"duration\"] = 0\n",
    "        i = rd.randint(0, pop-1)\n",
    "        g.vs[i][\"state\"] = \"I\"\n",
    "        \n",
    "        for time in range(days): #no. of days\n",
    "            if len(g.vs.select(state_eq = \"I\")) > pop*0.01 and time_1perc is False:\n",
    "                #stores the time that 1% of the population is infected\n",
    "                time_1perc = True\n",
    "                tot_time_1perc = float(time)\n",
    "                time_1perc_all.append(time)\n",
    "            if len(g.vs.select(state_eq = \"I\")) < pop*0.01 and tot_time_1perc > 0.0 and tt is False:\n",
    "                #stores the total time for which 1% of the population is infected\n",
    "                tot_time = time - tot_time_1perc\n",
    "                tot_time_1perc_all.append(tot_time)\n",
    "                tt = True\n",
    "                # stores the clustering coefficient associated with that time\n",
    "                cl_coeff = g.transitivity_undirected()\n",
    "                cl_coeffs_all.append(cl_coeff)\n",
    "            for n in g.vs.select(state_eq = \"I\"): #iterates through each node in the network\n",
    "                if g.vs[n.index][\"duration\"] == 0 and len(g.neighbors(n)) > m and time_1hub == False:\n",
    "                    #stores the time that the first hub is infected\n",
    "                    time_1hub = True\n",
    "                    time_1hub_all.append(time)\n",
    "                g.vs[n.index][\"duration\"] += 1 #from day 0 to infect_len this node continues to infect\n",
    "                day_inf = g.vs[n.index][\"duration\"]\n",
    "                for nb in g.neighbors(n): #iterates through neighbours of that node\n",
    "                    if g.vs[nb][\"state\"] == \"S\": #if node is infected...\n",
    "                        r = rd.random() #random state\n",
    "                        if r < probs_inf[day_inf]:\n",
    "                            g.vs[nb][\"state\"] = \"I\" #change state to infected\n",
    "                if g.vs[n.index][\"duration\"] >= rd.randrange(2,14): #after infect_len that node changes to recovered\n",
    "                    g.vs[n.index][\"state\"] = \"R\"\n",
    "            if time == days-1:\n",
    "                S_final.append(len(g.vs.select(state_eq = \"S\")))\n",
    "                I_final.append(len(g.vs.select(state_eq = \"I\")))\n",
    "                R_final.append(len(g.vs.select(state_eq = \"R\")))\n",
    "            if time_1perc is True and I_stores > len(g.vs.select(state_eq = \"I\")) and tt_peak is False:\n",
    "                # if pop greater than 1% and previous no. of infected nodes is higher than current assume peak\n",
    "                tt_peak = True\n",
    "                peak_time_all.append(time)\n",
    "                peak_perc_all.append(I_stores)\n",
    "            I_stores = len(g.vs.select(state_eq = \"I\"))\n",
    "            \n",
    "\n",
    "    return peak_time_all, peak_perc_all, cl_coeffs_all, tot_time_1perc_all, time_1perc_all, S_final, I_final,R_final\n",
    "\n",
    "\n",
    "\n",
    "   \n",
    "\n",
    "   "
   ]
  },
  {
   "cell_type": "code",
   "execution_count": 9,
   "metadata": {},
   "outputs": [],
   "source": [
    "#Control_a = results(iters = 5000)\n",
    "#Power_2_a = results(iters = 5000, power = 2)\n",
    "#Power_3_a = results(iters = 5000, power = 3)\n",
    "#Power_4_a = results(iters = 5000, power = 4)\n",
    "#Power_5_a = results(iters = 5000, power = 5)\n",
    "#Degree_3_a = results(iters = 5000, edge_per_node= 3)\n",
    "#Degree_4_a = results(iters = 5000, edge_per_node= 4)\n",
    "#Degree_5_a = results(iters = 5000, edge_per_node= 5)\n",
    "Degree_6_a = results(iters = 5000, edge_per_node= 6)\n",
    "#Lowpower_Highdegree_a = results(iters = 5000, power = 1, edge_per_node= 6)\n",
    "#Highpower_Lowdegree_a = results(iters = 5000, power = 5, edge_per_node= 2)\n",
    "#High_both_a = results(iters = 5000, edge_per_node= 6, power = 5)"
   ]
  },
  {
   "cell_type": "code",
   "execution_count": 18,
   "metadata": {},
   "outputs": [
    {
     "data": {
      "image/png": "[encoded data removed]",
      "text/plain": [
       "<Figure size 576x432 with 6 Axes>"
      ]
     },
     "metadata": {
      "needs_background": "light"
     },
     "output_type": "display_data"
    },
    {
     "data": {
      "text/plain": [
       "<Figure size 432x288 with 0 Axes>"
      ]
     },
     "metadata": {},
     "output_type": "display_data"
    }
   ],
   "source": [
    "# Histogram \n",
    "\n",
    "fig, [[ax1, ax2],[ax3, ax4], [ax5,ax6]] = plt.subplots(3,2,figsize=(8,6))\n",
    "\n",
    "#ax1.hist(x= np.array(Control_a[5]), bins= 300, histtype='bar', color='red')\n",
    "#ax1.hist(x= np.array(Control_a[7]), bins= 300, histtype='bar',color='salmon')\n",
    "\n",
    "#ax2.hist(x= np.array(Power_5_a[5]), bins= 300, histtype='bar', color='darkgoldenrod')\n",
    "#ax2.hist(x= np.array(Power_5_a[7]), bins= 300, histtype='bar',color='gold')\n",
    "\n",
    "ax3.hist(x= np.array(Degree_6_a[5]), bins= 300,histtype='step', color='darkgreen')\n",
    "ax3.hist(x= np.array(Degree_6_a[7]), bins= 300,histtype='step',color='springgreen')\n",
    "\n",
    "#ax4.hist(x= np.array(Lowpower_Highdegree_a[5]), bins= 300, histtype='bar', color='darkblue')\n",
    "#ax4.hist(x= np.array(Lowpower_Highdegree_a[7]), bins= 300, histtype='bar',color='lightskyblue')\n",
    "\n",
    "#ax5.hist(x= np.array(Highpower_Lowdegree_a[5]), bins= 300, histtype='bar', color='darkmagenta')\n",
    "#ax5.hist(x= np.array(Highpower_Lowdegree_a[7]), bins= 300, histtype='bar',color='plum')\n",
    "\n",
    "#ax6.hist(x= np.array(High_both_a[5]), bins= 300, histtype='bar', color='saddlebrown')\n",
    "#ax6.hist(x= np.array(High_both_a[7]), bins= 300, histtype='bar',color='sandybrown')\n",
    "\n",
    "\n",
    "\n",
    "plt.tight_layout()\n",
    "plt.show()"
   ]
  },
  {
   "cell_type": "code",
   "execution_count": null,
   "metadata": {},
   "outputs": [],
   "source": []
  }
 ],
 "metadata": {
  "kernelspec": {
   "display_name": "Python 3",
   "language": "python",
   "name": "python3"
  },
  "language_info": {
   "codemirror_mode": {
    "name": "ipython",
    "version": 3
   },
   "file_extension": ".py",
   "mimetype": "text/x-python",
   "name": "python",
   "nbconvert_exporter": "python",
   "pygments_lexer": "ipython3",
   "version": "3.8.5"
  }
 },
 "nbformat": 4,
 "nbformat_minor": 4
}
